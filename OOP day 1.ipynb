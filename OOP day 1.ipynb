{
 "cells": [
  {
   "cell_type": "code",
   "execution_count": 4,
   "id": "782747cd",
   "metadata": {},
   "outputs": [],
   "source": [
    "#when we create a variable actualy we create a object\n",
    "T = [1,2,3]\n",
    "#T.type()"
   ]
  },
  {
   "cell_type": "markdown",
   "id": "fd2c311e",
   "metadata": {},
   "source": [
    "- Any data types that we learnt in python like list tuple etc are classes\n",
    "- A class is set of rules followed by object\n",
    "- Object is Instance of class\n",
    "          /CLASS/\n",
    "1)Property(attribute) | 2)Function\n"
   ]
  },
  {
   "cell_type": "code",
   "execution_count": null,
   "id": "d404f559",
   "metadata": {},
   "outputs": [],
   "source": [
    "#Syntax to create an object\n",
    "#Objectname = classname()\n"
   ]
  },
  {
   "cell_type": "code",
   "execution_count": 3,
   "id": "cfad3cf6",
   "metadata": {},
   "outputs": [],
   "source": [
    "#passcasl case\n",
    "#HellowWorld"
   ]
  },
  {
   "cell_type": "markdown",
   "id": "ab3ccccc",
   "metadata": {},
   "source": [
    "class Atm():\n",
    "#constructor (special function)-> super power -> we can't need to call the function for execution its automatically execute while we create its object\n",
    "    def __init__(self):\n",
    "        self.pin =\"\"\n",
    "        self.balance = \"\"\n",
    "        print(\"main to execute ho gia\")        \n"
   ]
  },
  {
   "cell_type": "code",
   "execution_count": 14,
   "id": "be91dd58",
   "metadata": {},
   "outputs": [
    {
     "name": "stdout",
     "output_type": "stream",
     "text": [
      "main to execute ho gia\n"
     ]
    }
   ],
   "source": [
    "obj = Atm()"
   ]
  },
  {
   "cell_type": "code",
   "execution_count": 12,
   "id": "9c2fcb91",
   "metadata": {},
   "outputs": [
    {
     "name": "stdout",
     "output_type": "stream",
     "text": [
      "<class '__main__.Atm'>\n"
     ]
    }
   ],
   "source": [
    "print(type(obj))"
   ]
  },
  {
   "cell_type": "markdown",
   "id": "dec96306",
   "metadata": {},
   "source": [
    "# Type of Classes\n",
    "- Built in Classes\n",
    "\n",
    "builtin availaible\n",
    "\n",
    "- User defined classes\n",
    "\n",
    "created by programmer"
   ]
  },
  {
   "cell_type": "code",
   "execution_count": 36,
   "id": "75380619",
   "metadata": {},
   "outputs": [],
   "source": [
    "class Atm():\n",
    "    def __init__(self):\n",
    "        self.pin = \"\"\n",
    "        self.balance = \"0\"\n",
    "        self.menu()\n",
    "    def menu(self):\n",
    "            user_input = input(\"\"\"\n",
    "        Hi how can i help you?\n",
    "        1. Press 1 to create pin\n",
    "        2. Press 2 to change pin\n",
    "        3. Press 3 to check balance\n",
    "        4. Press 4 to withraw\n",
    "        5. Anything else to exit\n",
    "        \"\"\")"
   ]
  },
  {
   "cell_type": "code",
   "execution_count": null,
   "id": "c210dabb",
   "metadata": {},
   "outputs": [],
   "source": []
  }
 ],
 "metadata": {
  "kernelspec": {
   "display_name": "Python 3 (ipykernel)",
   "language": "python",
   "name": "python3"
  },
  "language_info": {
   "codemirror_mode": {
    "name": "ipython",
    "version": 3
   },
   "file_extension": ".py",
   "mimetype": "text/x-python",
   "name": "python",
   "nbconvert_exporter": "python",
   "pygments_lexer": "ipython3",
   "version": "3.9.13"
  }

 },
 "nbformat": 4,
 "nbformat_minor": 5
}

